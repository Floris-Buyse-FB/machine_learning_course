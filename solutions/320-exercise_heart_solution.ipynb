{
  "cells": [
    {
      "cell_type": "code",
      "execution_count": 1,
      "metadata": {
        "id": "rO-a8LratBrG"
      },
      "outputs": [],
      "source": [
        "# Python ≥3.7 is required\n",
        "import sys\n",
        "assert sys.version_info >= (3, 7)\n",
        "\n",
        "# Is this notebook running on Colab or Kaggle?\n",
        "IS_COLAB = \"google.colab\" in sys.modules\n",
        "\n",
        "# Scikit-Learn ≥1.0.1 is required\n",
        "from packaging import version\n",
        "import sklearn\n",
        "\n",
        "assert version.parse(sklearn.__version__) >= version.parse(\"1.0.1\")\n",
        "\n",
        "# Common imports\n",
        "import numpy as np\n",
        "import os\n",
        "\n",
        "# to make this notebook's output stable across runs\n",
        "np.random.seed(42)\n",
        "\n",
        "# To plot pretty figures\n",
        "import matplotlib.pyplot as plt\n",
        "\n",
        "plt.rc('font', size=14)\n",
        "plt.rc('axes', labelsize=14, titlesize=14)\n",
        "plt.rc('legend', fontsize=14)\n",
        "plt.rc('xtick', labelsize=10)\n",
        "plt.rc('ytick', labelsize=10)\n",
        "\n",
        "import pandas as pd"
      ]
    },
    {
      "cell_type": "markdown",
      "metadata": {
        "id": "UlSAWVUST66t"
      },
      "source": [
        "Deze dataset bevat data van cardiotocogrammen die gemaakt werden bij prenatale echo's. Door 3 experten werd een classificatie gedaan, zowel met betrekking tot het morfologisch patroon (CLASS) als met betrekking tot de toestand van de foetus (NSP). Dus zowel de kolom CLASS als de kolom NSP bevatten een 'score' die de 3 experten aan de data gaven.  \n",
        "Daarom kan deze dataset gebruikt worden voor een 10-class of voor een 3-class classificatie.  \n",
        "\n",
        "\n",
        "* LB - FHR-basislijn (slagen per minuut)    \n",
        "* AC - aantal versnellingen per seconde  \n",
        "* FM - aantal foetale bewegingen per seconde  \n",
        "* UC - aantal baarmoedersamentrekkingen per seconde  \n",
        "* DL - aantal lichtvertragingen per seconde  \n",
        "* DS - aantal ernstige vertragingen per seconde  \n",
        "* DP - aantal langdurige vertragingen per seconde  \n",
        "* ASTV - percentage van de tijd met abnormale kortetermijnvariabiliteit  \n",
        "* MSTV - gemiddelde waarde van kortetermijnvariabiliteit  \n",
        "* ALTV - percentage van de tijd met abnormale langetermijnvariabiliteit  \n",
        "* MLTV - gemiddelde waarde van langetermijnvariabiliteit  \n",
        "* Width - breedte van FHR-histogram  \n",
        "* Min - minimum van FHR-histogram  \n",
        "* Max - Maximum van FHR-histogram  \n",
        "* Nmax - aantal histogrampieken  \n",
        "* Nzeros - aantal histogramnullen  \n",
        "* Mode - histogrammodus  \n",
        "* Mean - histogram gemiddelde  \n",
        "* Median - histogram mediaan  \n",
        "* Variance - histogramvariantie  \n",
        "* Tendency - histogramtendens  \n",
        "* CLASS - klassecode van de FHR (1 tot 10)\n",
        "* NSP - klassecode van de toestand van de foetus (1 -> N=normaal; 2 -> S=verdacht (suspect); 3 -> P=pathologisch (= dit wijst op een ziekte))\n",
        "\n",
        "\n",
        "Bron: https://archive.ics.uci.edu/ml/datasets/cardiotocography "
      ]
    },
    {
      "cell_type": "code",
      "execution_count": 2,
      "metadata": {
        "colab": {
          "base_uri": "https://localhost:8080/"
        },
        "id": "9DDydng9tKwj",
        "outputId": "e3e855e8-9764-4883-c9c8-be2dd5b0348c"
      },
      "outputs": [
        {
          "name": "stdout",
          "output_type": "stream",
          "text": [
            "You are not running on Google Colab\n"
          ]
        }
      ],
      "source": [
        "if 'google.colab' in str(get_ipython()):\n",
        "    colab = True\n",
        "    print ('You are running on Google Colab')\n",
        "else:\n",
        "    colab = False\n",
        "    print ('You are not running on Google Colab')\n",
        "\n",
        "if colab:\n",
        "    from google.colab import drive\n",
        "    drive.mount('/content/gdrive')"
      ]
    },
    {
      "cell_type": "code",
      "execution_count": 3,
      "metadata": {
        "colab": {
          "base_uri": "https://localhost:8080/",
          "height": 235
        },
        "id": "u5k9dXTvtn3i",
        "outputId": "346449d7-6088-47ae-986c-6c845738bc2b"
      },
      "outputs": [
        {
          "data": {
            "text/html": [
              "<div>\n",
              "<style scoped>\n",
              "    .dataframe tbody tr th:only-of-type {\n",
              "        vertical-align: middle;\n",
              "    }\n",
              "\n",
              "    .dataframe tbody tr th {\n",
              "        vertical-align: top;\n",
              "    }\n",
              "\n",
              "    .dataframe thead th {\n",
              "        text-align: right;\n",
              "    }\n",
              "</style>\n",
              "<table border=\"1\" class=\"dataframe\">\n",
              "  <thead>\n",
              "    <tr style=\"text-align: right;\">\n",
              "      <th></th>\n",
              "      <th>LB</th>\n",
              "      <th>AC</th>\n",
              "      <th>FM</th>\n",
              "      <th>UC</th>\n",
              "      <th>DL</th>\n",
              "      <th>DS</th>\n",
              "      <th>DP</th>\n",
              "      <th>ASTV</th>\n",
              "      <th>MSTV</th>\n",
              "      <th>ALTV</th>\n",
              "      <th>...</th>\n",
              "      <th>Max</th>\n",
              "      <th>Nmax</th>\n",
              "      <th>Nzeros</th>\n",
              "      <th>Mode</th>\n",
              "      <th>Mean</th>\n",
              "      <th>Median</th>\n",
              "      <th>Variance</th>\n",
              "      <th>Tendency</th>\n",
              "      <th>CLASS</th>\n",
              "      <th>NSP</th>\n",
              "    </tr>\n",
              "  </thead>\n",
              "  <tbody>\n",
              "    <tr>\n",
              "      <th>0</th>\n",
              "      <td>120.0</td>\n",
              "      <td>0.000</td>\n",
              "      <td>0.0</td>\n",
              "      <td>0.000</td>\n",
              "      <td>0.000</td>\n",
              "      <td>0.0</td>\n",
              "      <td>0.0</td>\n",
              "      <td>73.0</td>\n",
              "      <td>0.5</td>\n",
              "      <td>43.0</td>\n",
              "      <td>...</td>\n",
              "      <td>126.0</td>\n",
              "      <td>2.0</td>\n",
              "      <td>0.0</td>\n",
              "      <td>120.0</td>\n",
              "      <td>137.0</td>\n",
              "      <td>121.0</td>\n",
              "      <td>73.0</td>\n",
              "      <td>1.0</td>\n",
              "      <td>9</td>\n",
              "      <td>2.0</td>\n",
              "    </tr>\n",
              "    <tr>\n",
              "      <th>1</th>\n",
              "      <td>132.0</td>\n",
              "      <td>0.006</td>\n",
              "      <td>0.0</td>\n",
              "      <td>0.006</td>\n",
              "      <td>0.003</td>\n",
              "      <td>0.0</td>\n",
              "      <td>0.0</td>\n",
              "      <td>17.0</td>\n",
              "      <td>2.1</td>\n",
              "      <td>0.0</td>\n",
              "      <td>...</td>\n",
              "      <td>198.0</td>\n",
              "      <td>6.0</td>\n",
              "      <td>1.0</td>\n",
              "      <td>141.0</td>\n",
              "      <td>136.0</td>\n",
              "      <td>140.0</td>\n",
              "      <td>12.0</td>\n",
              "      <td>0.0</td>\n",
              "      <td>6</td>\n",
              "      <td>1.0</td>\n",
              "    </tr>\n",
              "    <tr>\n",
              "      <th>2</th>\n",
              "      <td>133.0</td>\n",
              "      <td>0.003</td>\n",
              "      <td>0.0</td>\n",
              "      <td>0.008</td>\n",
              "      <td>0.003</td>\n",
              "      <td>0.0</td>\n",
              "      <td>0.0</td>\n",
              "      <td>16.0</td>\n",
              "      <td>2.1</td>\n",
              "      <td>0.0</td>\n",
              "      <td>...</td>\n",
              "      <td>198.0</td>\n",
              "      <td>5.0</td>\n",
              "      <td>1.0</td>\n",
              "      <td>141.0</td>\n",
              "      <td>135.0</td>\n",
              "      <td>138.0</td>\n",
              "      <td>13.0</td>\n",
              "      <td>0.0</td>\n",
              "      <td>6</td>\n",
              "      <td>1.0</td>\n",
              "    </tr>\n",
              "    <tr>\n",
              "      <th>3</th>\n",
              "      <td>134.0</td>\n",
              "      <td>0.003</td>\n",
              "      <td>0.0</td>\n",
              "      <td>0.008</td>\n",
              "      <td>0.003</td>\n",
              "      <td>0.0</td>\n",
              "      <td>0.0</td>\n",
              "      <td>16.0</td>\n",
              "      <td>2.4</td>\n",
              "      <td>0.0</td>\n",
              "      <td>...</td>\n",
              "      <td>170.0</td>\n",
              "      <td>11.0</td>\n",
              "      <td>0.0</td>\n",
              "      <td>137.0</td>\n",
              "      <td>134.0</td>\n",
              "      <td>137.0</td>\n",
              "      <td>13.0</td>\n",
              "      <td>1.0</td>\n",
              "      <td>6</td>\n",
              "      <td>1.0</td>\n",
              "    </tr>\n",
              "    <tr>\n",
              "      <th>4</th>\n",
              "      <td>132.0</td>\n",
              "      <td>0.007</td>\n",
              "      <td>0.0</td>\n",
              "      <td>0.008</td>\n",
              "      <td>0.000</td>\n",
              "      <td>0.0</td>\n",
              "      <td>0.0</td>\n",
              "      <td>16.0</td>\n",
              "      <td>2.4</td>\n",
              "      <td>0.0</td>\n",
              "      <td>...</td>\n",
              "      <td>170.0</td>\n",
              "      <td>9.0</td>\n",
              "      <td>0.0</td>\n",
              "      <td>137.0</td>\n",
              "      <td>136.0</td>\n",
              "      <td>138.0</td>\n",
              "      <td>11.0</td>\n",
              "      <td>1.0</td>\n",
              "      <td>2</td>\n",
              "      <td>1.0</td>\n",
              "    </tr>\n",
              "  </tbody>\n",
              "</table>\n",
              "<p>5 rows × 23 columns</p>\n",
              "</div>"
            ],
            "text/plain": [
              "      LB     AC   FM     UC     DL   DS   DP  ASTV  MSTV  ALTV  ...    Max  \\\n",
              "0  120.0  0.000  0.0  0.000  0.000  0.0  0.0  73.0   0.5  43.0  ...  126.0   \n",
              "1  132.0  0.006  0.0  0.006  0.003  0.0  0.0  17.0   2.1   0.0  ...  198.0   \n",
              "2  133.0  0.003  0.0  0.008  0.003  0.0  0.0  16.0   2.1   0.0  ...  198.0   \n",
              "3  134.0  0.003  0.0  0.008  0.003  0.0  0.0  16.0   2.4   0.0  ...  170.0   \n",
              "4  132.0  0.007  0.0  0.008  0.000  0.0  0.0  16.0   2.4   0.0  ...  170.0   \n",
              "\n",
              "   Nmax  Nzeros   Mode   Mean  Median  Variance  Tendency  CLASS  NSP  \n",
              "0   2.0     0.0  120.0  137.0   121.0      73.0       1.0      9  2.0  \n",
              "1   6.0     1.0  141.0  136.0   140.0      12.0       0.0      6  1.0  \n",
              "2   5.0     1.0  141.0  135.0   138.0      13.0       0.0      6  1.0  \n",
              "3  11.0     0.0  137.0  134.0   137.0      13.0       1.0      6  1.0  \n",
              "4   9.0     0.0  137.0  136.0   138.0      11.0       1.0      2  1.0  \n",
              "\n",
              "[5 rows x 23 columns]"
            ]
          },
          "execution_count": 3,
          "metadata": {},
          "output_type": "execute_result"
        }
      ],
      "source": [
        "if colab:\n",
        "    df = pd.read_csv('/content/gdrive/MyDrive/DataEchos.csv', delimiter=\";\")\n",
        "else:\n",
        "    df = pd.read_csv('https://raw.githubusercontent.com/HOGENT-ML/course/main/datasets/DataEchos.csv', delimiter=\";\")\n",
        "df.head()"
      ]
    },
    {
      "cell_type": "markdown",
      "metadata": {
        "id": "hWrct3ddbfjN"
      },
      "source": [
        "Geef algemene informatie over de  dataset (type van elke kolom, null waarden, ...)"
      ]
    },
    {
      "cell_type": "code",
      "execution_count": 4,
      "metadata": {
        "colab": {
          "base_uri": "https://localhost:8080/"
        },
        "id": "DiWPQpAGWuPH",
        "outputId": "2c7b4ac5-3669-47a2-f956-c0e3cfa035d6"
      },
      "outputs": [
        {
          "name": "stdout",
          "output_type": "stream",
          "text": [
            "<class 'pandas.core.frame.DataFrame'>\n",
            "RangeIndex: 2126 entries, 0 to 2125\n",
            "Data columns (total 23 columns):\n",
            " #   Column    Non-Null Count  Dtype  \n",
            "---  ------    --------------  -----  \n",
            " 0   LB        2126 non-null   float64\n",
            " 1   AC        2126 non-null   float64\n",
            " 2   FM        2126 non-null   float64\n",
            " 3   UC        2126 non-null   float64\n",
            " 4   DL        2126 non-null   float64\n",
            " 5   DS        2126 non-null   float64\n",
            " 6   DP        2126 non-null   float64\n",
            " 7   ASTV      2126 non-null   float64\n",
            " 8   MSTV      2126 non-null   float64\n",
            " 9   ALTV      2126 non-null   float64\n",
            " 10  MLTV      2126 non-null   float64\n",
            " 11  Width     2126 non-null   float64\n",
            " 12  Min       2126 non-null   float64\n",
            " 13  Max       2126 non-null   float64\n",
            " 14  Nmax      2126 non-null   float64\n",
            " 15  Nzeros    2126 non-null   float64\n",
            " 16  Mode      2126 non-null   float64\n",
            " 17  Mean      2126 non-null   float64\n",
            " 18  Median    2126 non-null   float64\n",
            " 19  Variance  2126 non-null   float64\n",
            " 20  Tendency  2126 non-null   float64\n",
            " 21  CLASS     2126 non-null   int64  \n",
            " 22  NSP       2126 non-null   float64\n",
            "dtypes: float64(22), int64(1)\n",
            "memory usage: 382.1 KB\n"
          ]
        }
      ],
      "source": [
        "df.info()"
      ]
    },
    {
      "cell_type": "markdown",
      "metadata": {
        "id": "3Zo4eNCD5n5c"
      },
      "source": [
        "Is dit een scheve (skewed) dataset? Geef het aantal records voor NSP = 1, 2 en 3."
      ]
    },
    {
      "cell_type": "code",
      "execution_count": 5,
      "metadata": {
        "colab": {
          "base_uri": "https://localhost:8080/"
        },
        "id": "Glj6bSs65mof",
        "outputId": "ce0c7b8d-6f1d-42f8-d6e7-ccd0435f999b"
      },
      "outputs": [
        {
          "data": {
            "text/plain": [
              "1.0    1655\n",
              "2.0     295\n",
              "3.0     176\n",
              "Name: NSP, dtype: int64"
            ]
          },
          "execution_count": 5,
          "metadata": {},
          "output_type": "execute_result"
        }
      ],
      "source": [
        "df['NSP'].value_counts()"
      ]
    },
    {
      "attachments": {},
      "cell_type": "markdown",
      "metadata": {
        "id": "rAad8r0Y0zL4"
      },
      "source": [
        "We willen de de classificatie doen op basis van NSP (en níet CLASS).  \n",
        "Wat is X? Wat is y?"
      ]
    },
    {
      "cell_type": "code",
      "execution_count": 6,
      "metadata": {
        "id": "AJELc5MV1GjS"
      },
      "outputs": [],
      "source": [
        "X = df.drop(['CLASS', 'NSP'], axis = 1)\n",
        "y = df['NSP']"
      ]
    },
    {
      "cell_type": "markdown",
      "metadata": {
        "id": "Vc4ZvkTt1bm9"
      },
      "source": [
        "Wat is X_train, y_train, X_test, y_test?"
      ]
    },
    {
      "cell_type": "code",
      "execution_count": 7,
      "metadata": {
        "id": "1G7hJhzp1auG"
      },
      "outputs": [],
      "source": [
        "from sklearn.model_selection import train_test_split    \n",
        "X_train, X_test, y_train, y_test = train_test_split(X, y, test_size=0.2, random_state=42) "
      ]
    },
    {
      "cell_type": "markdown",
      "metadata": {
        "id": "emWmYaom2Ocu"
      },
      "source": [
        "Wat zijn de numerieke kolommen in X?"
      ]
    },
    {
      "cell_type": "code",
      "execution_count": 8,
      "metadata": {
        "colab": {
          "base_uri": "https://localhost:8080/"
        },
        "id": "EeCjTDN22Mkm",
        "outputId": "da092fe0-23c3-4d30-a3c9-eba9f6c6c663"
      },
      "outputs": [
        {
          "name": "stdout",
          "output_type": "stream",
          "text": [
            "Index(['LB', 'AC', 'FM', 'UC', 'DL', 'DS', 'DP', 'ASTV', 'MSTV', 'ALTV',\n",
            "       'MLTV', 'Width', 'Min', 'Max', 'Nmax', 'Nzeros', 'Mode', 'Mean',\n",
            "       'Median', 'Variance', 'Tendency'],\n",
            "      dtype='object')\n"
          ]
        }
      ],
      "source": [
        "numerical_ix = X.select_dtypes(include=['int64', 'float64']).columns\n",
        "print(numerical_ix)"
      ]
    },
    {
      "cell_type": "markdown",
      "metadata": {
        "id": "7gzC7vfeIgcd"
      },
      "source": [
        "Geef de unieke waarden in NSP **gesorteerd** van klein naar groot."
      ]
    },
    {
      "cell_type": "code",
      "execution_count": 9,
      "metadata": {
        "colab": {
          "base_uri": "https://localhost:8080/"
        },
        "id": "I_D44r9MlujM",
        "outputId": "31dbb840-5bde-4672-89e6-c1994fd15daa"
      },
      "outputs": [
        {
          "name": "stdout",
          "output_type": "stream",
          "text": [
            "[1. 2. 3.]\n"
          ]
        }
      ],
      "source": [
        "nsp_values = np.sort(df['NSP'].unique())\n",
        "print(nsp_values)"
      ]
    },
    {
      "attachments": {},
      "cell_type": "markdown",
      "metadata": {
        "id": "3PLWp4ZH2yag"
      },
      "source": [
        "Standardiseer de waarden in de numerieke kolommen."
      ]
    },
    {
      "cell_type": "code",
      "execution_count": 10,
      "metadata": {
        "id": "72MFbKsX2WGW"
      },
      "outputs": [
        {
          "data": {
            "text/html": [
              "<div>\n",
              "<style scoped>\n",
              "    .dataframe tbody tr th:only-of-type {\n",
              "        vertical-align: middle;\n",
              "    }\n",
              "\n",
              "    .dataframe tbody tr th {\n",
              "        vertical-align: top;\n",
              "    }\n",
              "\n",
              "    .dataframe thead th {\n",
              "        text-align: right;\n",
              "    }\n",
              "</style>\n",
              "<table border=\"1\" class=\"dataframe\">\n",
              "  <thead>\n",
              "    <tr style=\"text-align: right;\">\n",
              "      <th></th>\n",
              "      <th>LB</th>\n",
              "      <th>AC</th>\n",
              "      <th>FM</th>\n",
              "      <th>UC</th>\n",
              "      <th>DL</th>\n",
              "      <th>DS</th>\n",
              "      <th>DP</th>\n",
              "      <th>ASTV</th>\n",
              "      <th>MSTV</th>\n",
              "      <th>ALTV</th>\n",
              "      <th>...</th>\n",
              "      <th>Width</th>\n",
              "      <th>Min</th>\n",
              "      <th>Max</th>\n",
              "      <th>Nmax</th>\n",
              "      <th>Nzeros</th>\n",
              "      <th>Mode</th>\n",
              "      <th>Mean</th>\n",
              "      <th>Median</th>\n",
              "      <th>Variance</th>\n",
              "      <th>Tendency</th>\n",
              "    </tr>\n",
              "  </thead>\n",
              "  <tbody>\n",
              "    <tr>\n",
              "      <th>1233</th>\n",
              "      <td>-0.818907</td>\n",
              "      <td>-0.824976</td>\n",
              "      <td>-0.204261</td>\n",
              "      <td>1.218555</td>\n",
              "      <td>-0.637350</td>\n",
              "      <td>-0.064301</td>\n",
              "      <td>-0.268148</td>\n",
              "      <td>-0.859657</td>\n",
              "      <td>-0.262589</td>\n",
              "      <td>-0.367038</td>\n",
              "      <td>...</td>\n",
              "      <td>-0.500418</td>\n",
              "      <td>0.090151</td>\n",
              "      <td>-0.947494</td>\n",
              "      <td>-0.014607</td>\n",
              "      <td>-0.445313</td>\n",
              "      <td>-0.680274</td>\n",
              "      <td>-0.603307</td>\n",
              "      <td>-0.742903</td>\n",
              "      <td>-0.580514</td>\n",
              "      <td>-0.516697</td>\n",
              "    </tr>\n",
              "    <tr>\n",
              "      <th>480</th>\n",
              "      <td>0.692429</td>\n",
              "      <td>-0.824976</td>\n",
              "      <td>-0.204261</td>\n",
              "      <td>-1.159016</td>\n",
              "      <td>-0.637350</td>\n",
              "      <td>-0.064301</td>\n",
              "      <td>-0.268148</td>\n",
              "      <td>0.762723</td>\n",
              "      <td>-0.604484</td>\n",
              "      <td>1.233861</td>\n",
              "      <td>...</td>\n",
              "      <td>1.267146</td>\n",
              "      <td>-0.482204</td>\n",
              "      <td>1.975298</td>\n",
              "      <td>1.686204</td>\n",
              "      <td>-0.445313</td>\n",
              "      <td>0.222228</td>\n",
              "      <td>0.414302</td>\n",
              "      <td>0.281431</td>\n",
              "      <td>-0.545964</td>\n",
              "      <td>-0.516697</td>\n",
              "    </tr>\n",
              "    <tr>\n",
              "      <th>1111</th>\n",
              "      <td>-1.121174</td>\n",
              "      <td>-0.824976</td>\n",
              "      <td>-0.204261</td>\n",
              "      <td>-1.498669</td>\n",
              "      <td>-0.296949</td>\n",
              "      <td>-0.064301</td>\n",
              "      <td>-0.268148</td>\n",
              "      <td>-1.554963</td>\n",
              "      <td>0.535166</td>\n",
              "      <td>-0.532648</td>\n",
              "      <td>...</td>\n",
              "      <td>-0.807820</td>\n",
              "      <td>0.325826</td>\n",
              "      <td>-1.228531</td>\n",
              "      <td>-1.035093</td>\n",
              "      <td>-0.445313</td>\n",
              "      <td>-1.041275</td>\n",
              "      <td>-0.984911</td>\n",
              "      <td>-1.152636</td>\n",
              "      <td>-0.545964</td>\n",
              "      <td>-0.516697</td>\n",
              "    </tr>\n",
              "    <tr>\n",
              "      <th>1303</th>\n",
              "      <td>0.390162</td>\n",
              "      <td>0.464049</td>\n",
              "      <td>-0.204261</td>\n",
              "      <td>0.199596</td>\n",
              "      <td>0.043451</td>\n",
              "      <td>-0.064301</td>\n",
              "      <td>-0.268148</td>\n",
              "      <td>-0.627888</td>\n",
              "      <td>-0.490519</td>\n",
              "      <td>-0.532648</td>\n",
              "      <td>...</td>\n",
              "      <td>-0.193016</td>\n",
              "      <td>0.729841</td>\n",
              "      <td>0.794940</td>\n",
              "      <td>-0.014607</td>\n",
              "      <td>-0.445313</td>\n",
              "      <td>0.643396</td>\n",
              "      <td>0.859505</td>\n",
              "      <td>0.759453</td>\n",
              "      <td>-0.338667</td>\n",
              "      <td>-0.516697</td>\n",
              "    </tr>\n",
              "    <tr>\n",
              "      <th>861</th>\n",
              "      <td>0.893941</td>\n",
              "      <td>-0.051561</td>\n",
              "      <td>-0.204261</td>\n",
              "      <td>-0.140057</td>\n",
              "      <td>-0.637350</td>\n",
              "      <td>-0.064301</td>\n",
              "      <td>-0.268148</td>\n",
              "      <td>-0.048467</td>\n",
              "      <td>-0.718449</td>\n",
              "      <td>0.957844</td>\n",
              "      <td>...</td>\n",
              "      <td>-1.140840</td>\n",
              "      <td>1.335863</td>\n",
              "      <td>-0.273003</td>\n",
              "      <td>-1.035093</td>\n",
              "      <td>-0.445313</td>\n",
              "      <td>0.763729</td>\n",
              "      <td>0.859505</td>\n",
              "      <td>0.827742</td>\n",
              "      <td>-0.615063</td>\n",
              "      <td>-0.516697</td>\n",
              "    </tr>\n",
              "    <tr>\n",
              "      <th>...</th>\n",
              "      <td>...</td>\n",
              "      <td>...</td>\n",
              "      <td>...</td>\n",
              "      <td>...</td>\n",
              "      <td>...</td>\n",
              "      <td>...</td>\n",
              "      <td>...</td>\n",
              "      <td>...</td>\n",
              "      <td>...</td>\n",
              "      <td>...</td>\n",
              "      <td>...</td>\n",
              "      <td>...</td>\n",
              "      <td>...</td>\n",
              "      <td>...</td>\n",
              "      <td>...</td>\n",
              "      <td>...</td>\n",
              "      <td>...</td>\n",
              "      <td>...</td>\n",
              "      <td>...</td>\n",
              "      <td>...</td>\n",
              "      <td>...</td>\n",
              "    </tr>\n",
              "    <tr>\n",
              "      <th>1638</th>\n",
              "      <td>-0.315128</td>\n",
              "      <td>1.495268</td>\n",
              "      <td>-0.183561</td>\n",
              "      <td>-0.140057</td>\n",
              "      <td>-0.296949</td>\n",
              "      <td>-0.064301</td>\n",
              "      <td>-0.268148</td>\n",
              "      <td>0.299186</td>\n",
              "      <td>-0.034659</td>\n",
              "      <td>-0.532648</td>\n",
              "      <td>...</td>\n",
              "      <td>0.729192</td>\n",
              "      <td>-0.684211</td>\n",
              "      <td>0.457695</td>\n",
              "      <td>0.665717</td>\n",
              "      <td>-0.445313</td>\n",
              "      <td>0.402728</td>\n",
              "      <td>0.414302</td>\n",
              "      <td>0.418008</td>\n",
              "      <td>-0.096820</td>\n",
              "      <td>1.119029</td>\n",
              "    </tr>\n",
              "    <tr>\n",
              "      <th>1095</th>\n",
              "      <td>-1.020419</td>\n",
              "      <td>2.268683</td>\n",
              "      <td>-0.204261</td>\n",
              "      <td>-0.819363</td>\n",
              "      <td>-0.637350</td>\n",
              "      <td>-0.064301</td>\n",
              "      <td>-0.268148</td>\n",
              "      <td>-1.439078</td>\n",
              "      <td>0.991026</td>\n",
              "      <td>-0.532648</td>\n",
              "      <td>...</td>\n",
              "      <td>-0.474801</td>\n",
              "      <td>0.224822</td>\n",
              "      <td>-0.666456</td>\n",
              "      <td>-0.694931</td>\n",
              "      <td>-0.445313</td>\n",
              "      <td>-0.379440</td>\n",
              "      <td>-0.158104</td>\n",
              "      <td>-0.333169</td>\n",
              "      <td>-0.511415</td>\n",
              "      <td>-0.516697</td>\n",
              "    </tr>\n",
              "    <tr>\n",
              "      <th>1130</th>\n",
              "      <td>-1.121174</td>\n",
              "      <td>0.464049</td>\n",
              "      <td>-0.204261</td>\n",
              "      <td>-0.140057</td>\n",
              "      <td>1.064653</td>\n",
              "      <td>-0.064301</td>\n",
              "      <td>-0.268148</td>\n",
              "      <td>-1.554963</td>\n",
              "      <td>1.446887</td>\n",
              "      <td>-0.532648</td>\n",
              "      <td>...</td>\n",
              "      <td>0.703575</td>\n",
              "      <td>-1.121894</td>\n",
              "      <td>-0.329211</td>\n",
              "      <td>0.665717</td>\n",
              "      <td>-0.445313</td>\n",
              "      <td>-0.379440</td>\n",
              "      <td>-0.857710</td>\n",
              "      <td>-0.811192</td>\n",
              "      <td>0.421423</td>\n",
              "      <td>-0.516697</td>\n",
              "    </tr>\n",
              "    <tr>\n",
              "      <th>1294</th>\n",
              "      <td>-1.826465</td>\n",
              "      <td>-0.051561</td>\n",
              "      <td>-0.204261</td>\n",
              "      <td>1.218555</td>\n",
              "      <td>0.043451</td>\n",
              "      <td>-0.064301</td>\n",
              "      <td>1.383487</td>\n",
              "      <td>-1.323194</td>\n",
              "      <td>0.307236</td>\n",
              "      <td>-0.532648</td>\n",
              "      <td>...</td>\n",
              "      <td>0.959744</td>\n",
              "      <td>-0.751547</td>\n",
              "      <td>0.851147</td>\n",
              "      <td>-0.354769</td>\n",
              "      <td>2.444122</td>\n",
              "      <td>-0.259107</td>\n",
              "      <td>-0.794109</td>\n",
              "      <td>-0.606325</td>\n",
              "      <td>0.905117</td>\n",
              "      <td>-0.516697</td>\n",
              "    </tr>\n",
              "    <tr>\n",
              "      <th>860</th>\n",
              "      <td>0.893941</td>\n",
              "      <td>-0.567171</td>\n",
              "      <td>-0.204261</td>\n",
              "      <td>-0.140057</td>\n",
              "      <td>-0.637350</td>\n",
              "      <td>-0.064301</td>\n",
              "      <td>-0.268148</td>\n",
              "      <td>-0.454062</td>\n",
              "      <td>-0.490519</td>\n",
              "      <td>-0.532648</td>\n",
              "      <td>...</td>\n",
              "      <td>-0.987139</td>\n",
              "      <td>1.133856</td>\n",
              "      <td>-0.273003</td>\n",
              "      <td>-1.035093</td>\n",
              "      <td>-0.445313</td>\n",
              "      <td>0.823896</td>\n",
              "      <td>0.795905</td>\n",
              "      <td>0.759453</td>\n",
              "      <td>-0.511415</td>\n",
              "      <td>1.119029</td>\n",
              "    </tr>\n",
              "  </tbody>\n",
              "</table>\n",
              "<p>1700 rows × 21 columns</p>\n",
              "</div>"
            ],
            "text/plain": [
              "            LB        AC        FM        UC        DL        DS        DP  \\\n",
              "1233 -0.818907 -0.824976 -0.204261  1.218555 -0.637350 -0.064301 -0.268148   \n",
              "480   0.692429 -0.824976 -0.204261 -1.159016 -0.637350 -0.064301 -0.268148   \n",
              "1111 -1.121174 -0.824976 -0.204261 -1.498669 -0.296949 -0.064301 -0.268148   \n",
              "1303  0.390162  0.464049 -0.204261  0.199596  0.043451 -0.064301 -0.268148   \n",
              "861   0.893941 -0.051561 -0.204261 -0.140057 -0.637350 -0.064301 -0.268148   \n",
              "...        ...       ...       ...       ...       ...       ...       ...   \n",
              "1638 -0.315128  1.495268 -0.183561 -0.140057 -0.296949 -0.064301 -0.268148   \n",
              "1095 -1.020419  2.268683 -0.204261 -0.819363 -0.637350 -0.064301 -0.268148   \n",
              "1130 -1.121174  0.464049 -0.204261 -0.140057  1.064653 -0.064301 -0.268148   \n",
              "1294 -1.826465 -0.051561 -0.204261  1.218555  0.043451 -0.064301  1.383487   \n",
              "860   0.893941 -0.567171 -0.204261 -0.140057 -0.637350 -0.064301 -0.268148   \n",
              "\n",
              "          ASTV      MSTV      ALTV  ...     Width       Min       Max  \\\n",
              "1233 -0.859657 -0.262589 -0.367038  ... -0.500418  0.090151 -0.947494   \n",
              "480   0.762723 -0.604484  1.233861  ...  1.267146 -0.482204  1.975298   \n",
              "1111 -1.554963  0.535166 -0.532648  ... -0.807820  0.325826 -1.228531   \n",
              "1303 -0.627888 -0.490519 -0.532648  ... -0.193016  0.729841  0.794940   \n",
              "861  -0.048467 -0.718449  0.957844  ... -1.140840  1.335863 -0.273003   \n",
              "...        ...       ...       ...  ...       ...       ...       ...   \n",
              "1638  0.299186 -0.034659 -0.532648  ...  0.729192 -0.684211  0.457695   \n",
              "1095 -1.439078  0.991026 -0.532648  ... -0.474801  0.224822 -0.666456   \n",
              "1130 -1.554963  1.446887 -0.532648  ...  0.703575 -1.121894 -0.329211   \n",
              "1294 -1.323194  0.307236 -0.532648  ...  0.959744 -0.751547  0.851147   \n",
              "860  -0.454062 -0.490519 -0.532648  ... -0.987139  1.133856 -0.273003   \n",
              "\n",
              "          Nmax    Nzeros      Mode      Mean    Median  Variance  Tendency  \n",
              "1233 -0.014607 -0.445313 -0.680274 -0.603307 -0.742903 -0.580514 -0.516697  \n",
              "480   1.686204 -0.445313  0.222228  0.414302  0.281431 -0.545964 -0.516697  \n",
              "1111 -1.035093 -0.445313 -1.041275 -0.984911 -1.152636 -0.545964 -0.516697  \n",
              "1303 -0.014607 -0.445313  0.643396  0.859505  0.759453 -0.338667 -0.516697  \n",
              "861  -1.035093 -0.445313  0.763729  0.859505  0.827742 -0.615063 -0.516697  \n",
              "...        ...       ...       ...       ...       ...       ...       ...  \n",
              "1638  0.665717 -0.445313  0.402728  0.414302  0.418008 -0.096820  1.119029  \n",
              "1095 -0.694931 -0.445313 -0.379440 -0.158104 -0.333169 -0.511415 -0.516697  \n",
              "1130  0.665717 -0.445313 -0.379440 -0.857710 -0.811192  0.421423 -0.516697  \n",
              "1294 -0.354769  2.444122 -0.259107 -0.794109 -0.606325  0.905117 -0.516697  \n",
              "860  -1.035093 -0.445313  0.823896  0.795905  0.759453 -0.511415  1.119029  \n",
              "\n",
              "[1700 rows x 21 columns]"
            ]
          },
          "execution_count": 10,
          "metadata": {},
          "output_type": "execute_result"
        }
      ],
      "source": [
        "from sklearn.preprocessing import StandardScaler\n",
        "\n",
        "std_scaler = StandardScaler()\n",
        "X_train_num = X_train[numerical_ix]\n",
        "X_train_num_scaled = std_scaler.fit_transform(X_train_num)\n",
        "X_train_num_scaled_df = pd.DataFrame(X_train_num_scaled, columns=X_train_num.columns,index=X_train_num.index)\n",
        "X_test_num = X_test[numerical_ix]\n",
        "X_test_num_scaled = std_scaler.fit(X_test_num)\n",
        "X_test_num_scaled_df = pd.DataFrame(X_test_num_scaled, columns=X_test_num.columns,index=X_test_num.index)\n",
        "X_train_num_scaled_df"
      ]
    },
    {
      "cell_type": "code",
      "execution_count": 11,
      "metadata": {},
      "outputs": [
        {
          "data": {
            "text/html": [
              "<div>\n",
              "<style scoped>\n",
              "    .dataframe tbody tr th:only-of-type {\n",
              "        vertical-align: middle;\n",
              "    }\n",
              "\n",
              "    .dataframe tbody tr th {\n",
              "        vertical-align: top;\n",
              "    }\n",
              "\n",
              "    .dataframe thead th {\n",
              "        text-align: right;\n",
              "    }\n",
              "</style>\n",
              "<table border=\"1\" class=\"dataframe\">\n",
              "  <thead>\n",
              "    <tr style=\"text-align: right;\">\n",
              "      <th></th>\n",
              "      <th>LB</th>\n",
              "      <th>AC</th>\n",
              "      <th>FM</th>\n",
              "      <th>UC</th>\n",
              "      <th>DL</th>\n",
              "      <th>DS</th>\n",
              "      <th>DP</th>\n",
              "      <th>ASTV</th>\n",
              "      <th>MSTV</th>\n",
              "      <th>ALTV</th>\n",
              "      <th>...</th>\n",
              "      <th>Width</th>\n",
              "      <th>Min</th>\n",
              "      <th>Max</th>\n",
              "      <th>Nmax</th>\n",
              "      <th>Nzeros</th>\n",
              "      <th>Mode</th>\n",
              "      <th>Mean</th>\n",
              "      <th>Median</th>\n",
              "      <th>Variance</th>\n",
              "      <th>Tendency</th>\n",
              "    </tr>\n",
              "  </thead>\n",
              "  <tbody>\n",
              "    <tr>\n",
              "      <th>282</th>\n",
              "      <td>-0.106532</td>\n",
              "      <td>-0.286784</td>\n",
              "      <td>0.052463</td>\n",
              "      <td>-0.402003</td>\n",
              "      <td>0.013881</td>\n",
              "      <td>0.0</td>\n",
              "      <td>-0.274094</td>\n",
              "      <td>-0.094906</td>\n",
              "      <td>-0.267724</td>\n",
              "      <td>-0.547087</td>\n",
              "      <td>...</td>\n",
              "      <td>-0.028291</td>\n",
              "      <td>0.013632</td>\n",
              "      <td>-0.037672</td>\n",
              "      <td>0.278678</td>\n",
              "      <td>-0.509868</td>\n",
              "      <td>0.062982</td>\n",
              "      <td>-0.007181</td>\n",
              "      <td>-0.068261</td>\n",
              "      <td>-0.338092</td>\n",
              "      <td>-0.556238</td>\n",
              "    </tr>\n",
              "    <tr>\n",
              "      <th>1999</th>\n",
              "      <td>-0.952824</td>\n",
              "      <td>-0.812247</td>\n",
              "      <td>-0.176369</td>\n",
              "      <td>1.636726</td>\n",
              "      <td>1.984984</td>\n",
              "      <td>0.0</td>\n",
              "      <td>-0.274094</td>\n",
              "      <td>0.852212</td>\n",
              "      <td>0.395360</td>\n",
              "      <td>-0.547087</td>\n",
              "      <td>...</td>\n",
              "      <td>0.049464</td>\n",
              "      <td>-0.919662</td>\n",
              "      <td>-1.334519</td>\n",
              "      <td>0.278678</td>\n",
              "      <td>-0.509868</td>\n",
              "      <td>-0.523120</td>\n",
              "      <td>-1.270786</td>\n",
              "      <td>-1.018080</td>\n",
              "      <td>0.349717</td>\n",
              "      <td>1.089298</td>\n",
              "    </tr>\n",
              "    <tr>\n",
              "      <th>1709</th>\n",
              "      <td>-0.318105</td>\n",
              "      <td>0.238678</td>\n",
              "      <td>-0.125518</td>\n",
              "      <td>-0.062215</td>\n",
              "      <td>0.999432</td>\n",
              "      <td>0.0</td>\n",
              "      <td>1.640073</td>\n",
              "      <td>0.733823</td>\n",
              "      <td>0.837415</td>\n",
              "      <td>-0.547087</td>\n",
              "      <td>...</td>\n",
              "      <td>0.516000</td>\n",
              "      <td>-0.573997</td>\n",
              "      <td>0.178469</td>\n",
              "      <td>1.284754</td>\n",
              "      <td>-0.509868</td>\n",
              "      <td>-0.327752</td>\n",
              "      <td>-0.539226</td>\n",
              "      <td>-0.506639</td>\n",
              "      <td>0.074593</td>\n",
              "      <td>-0.556238</td>\n",
              "    </tr>\n",
              "    <tr>\n",
              "      <th>988</th>\n",
              "      <td>-0.318105</td>\n",
              "      <td>2.077798</td>\n",
              "      <td>-0.201795</td>\n",
              "      <td>0.277573</td>\n",
              "      <td>-0.643153</td>\n",
              "      <td>0.0</td>\n",
              "      <td>-0.274094</td>\n",
              "      <td>-1.101220</td>\n",
              "      <td>-0.046696</td>\n",
              "      <td>-0.547087</td>\n",
              "      <td>...</td>\n",
              "      <td>0.490082</td>\n",
              "      <td>-0.435732</td>\n",
              "      <td>0.340574</td>\n",
              "      <td>1.284754</td>\n",
              "      <td>-0.509868</td>\n",
              "      <td>0.323472</td>\n",
              "      <td>0.657874</td>\n",
              "      <td>0.443180</td>\n",
              "      <td>-0.338092</td>\n",
              "      <td>1.089298</td>\n",
              "    </tr>\n",
              "    <tr>\n",
              "      <th>2018</th>\n",
              "      <td>-0.952824</td>\n",
              "      <td>-0.812247</td>\n",
              "      <td>-0.201795</td>\n",
              "      <td>1.296938</td>\n",
              "      <td>1.656467</td>\n",
              "      <td>0.0</td>\n",
              "      <td>1.640073</td>\n",
              "      <td>0.970602</td>\n",
              "      <td>-0.046696</td>\n",
              "      <td>-0.547087</td>\n",
              "      <td>...</td>\n",
              "      <td>0.179058</td>\n",
              "      <td>-0.573997</td>\n",
              "      <td>-0.523990</td>\n",
              "      <td>-0.056680</td>\n",
              "      <td>-0.509868</td>\n",
              "      <td>-1.565079</td>\n",
              "      <td>-1.603314</td>\n",
              "      <td>-1.821773</td>\n",
              "      <td>-0.406873</td>\n",
              "      <td>-0.556238</td>\n",
              "    </tr>\n",
              "    <tr>\n",
              "      <th>...</th>\n",
              "      <td>...</td>\n",
              "      <td>...</td>\n",
              "      <td>...</td>\n",
              "      <td>...</td>\n",
              "      <td>...</td>\n",
              "      <td>...</td>\n",
              "      <td>...</td>\n",
              "      <td>...</td>\n",
              "      <td>...</td>\n",
              "      <td>...</td>\n",
              "      <td>...</td>\n",
              "      <td>...</td>\n",
              "      <td>...</td>\n",
              "      <td>...</td>\n",
              "      <td>...</td>\n",
              "      <td>...</td>\n",
              "      <td>...</td>\n",
              "      <td>...</td>\n",
              "      <td>...</td>\n",
              "      <td>...</td>\n",
              "      <td>...</td>\n",
              "    </tr>\n",
              "    <tr>\n",
              "      <th>305</th>\n",
              "      <td>1.162907</td>\n",
              "      <td>-0.812247</td>\n",
              "      <td>0.332147</td>\n",
              "      <td>-1.421367</td>\n",
              "      <td>-0.643153</td>\n",
              "      <td>0.0</td>\n",
              "      <td>-0.274094</td>\n",
              "      <td>1.562552</td>\n",
              "      <td>-1.151835</td>\n",
              "      <td>0.996010</td>\n",
              "      <td>...</td>\n",
              "      <td>-0.417071</td>\n",
              "      <td>1.258023</td>\n",
              "      <td>1.097068</td>\n",
              "      <td>-0.727398</td>\n",
              "      <td>-0.509868</td>\n",
              "      <td>0.453717</td>\n",
              "      <td>0.591368</td>\n",
              "      <td>0.516243</td>\n",
              "      <td>-0.613216</td>\n",
              "      <td>-2.201774</td>\n",
              "    </tr>\n",
              "    <tr>\n",
              "      <th>973</th>\n",
              "      <td>-0.318105</td>\n",
              "      <td>-0.812247</td>\n",
              "      <td>-0.201795</td>\n",
              "      <td>0.277573</td>\n",
              "      <td>1.984984</td>\n",
              "      <td>0.0</td>\n",
              "      <td>-0.274094</td>\n",
              "      <td>-0.923635</td>\n",
              "      <td>0.505873</td>\n",
              "      <td>-0.238468</td>\n",
              "      <td>...</td>\n",
              "      <td>0.697431</td>\n",
              "      <td>-1.230760</td>\n",
              "      <td>-0.469955</td>\n",
              "      <td>-0.392039</td>\n",
              "      <td>0.814545</td>\n",
              "      <td>-0.197508</td>\n",
              "      <td>-1.004764</td>\n",
              "      <td>-0.433576</td>\n",
              "      <td>1.759725</td>\n",
              "      <td>1.089298</td>\n",
              "    </tr>\n",
              "    <tr>\n",
              "      <th>611</th>\n",
              "      <td>1.057121</td>\n",
              "      <td>0.764141</td>\n",
              "      <td>-0.074666</td>\n",
              "      <td>-0.741791</td>\n",
              "      <td>-0.643153</td>\n",
              "      <td>0.0</td>\n",
              "      <td>-0.274094</td>\n",
              "      <td>-0.864441</td>\n",
              "      <td>0.395360</td>\n",
              "      <td>-0.547087</td>\n",
              "      <td>...</td>\n",
              "      <td>0.852943</td>\n",
              "      <td>-0.815962</td>\n",
              "      <td>0.502680</td>\n",
              "      <td>0.278678</td>\n",
              "      <td>0.814545</td>\n",
              "      <td>0.779329</td>\n",
              "      <td>0.923896</td>\n",
              "      <td>0.881558</td>\n",
              "      <td>-0.303702</td>\n",
              "      <td>1.089298</td>\n",
              "    </tr>\n",
              "    <tr>\n",
              "      <th>2108</th>\n",
              "      <td>0.210828</td>\n",
              "      <td>-0.812247</td>\n",
              "      <td>-0.125518</td>\n",
              "      <td>1.296938</td>\n",
              "      <td>-0.314636</td>\n",
              "      <td>0.0</td>\n",
              "      <td>-0.274094</td>\n",
              "      <td>1.148187</td>\n",
              "      <td>0.947929</td>\n",
              "      <td>-0.547087</td>\n",
              "      <td>...</td>\n",
              "      <td>-0.650339</td>\n",
              "      <td>0.186464</td>\n",
              "      <td>-1.064342</td>\n",
              "      <td>-0.392039</td>\n",
              "      <td>-0.509868</td>\n",
              "      <td>-0.327752</td>\n",
              "      <td>-0.273203</td>\n",
              "      <td>-0.214387</td>\n",
              "      <td>-0.578825</td>\n",
              "      <td>1.089298</td>\n",
              "    </tr>\n",
              "    <tr>\n",
              "      <th>192</th>\n",
              "      <td>1.057121</td>\n",
              "      <td>-0.286784</td>\n",
              "      <td>-0.201795</td>\n",
              "      <td>-0.402003</td>\n",
              "      <td>-0.643153</td>\n",
              "      <td>0.0</td>\n",
              "      <td>-0.274094</td>\n",
              "      <td>0.082678</td>\n",
              "      <td>-0.709779</td>\n",
              "      <td>-0.392778</td>\n",
              "      <td>...</td>\n",
              "      <td>-0.676258</td>\n",
              "      <td>1.569121</td>\n",
              "      <td>1.043033</td>\n",
              "      <td>-0.392039</td>\n",
              "      <td>-0.509868</td>\n",
              "      <td>1.560799</td>\n",
              "      <td>1.522446</td>\n",
              "      <td>1.685251</td>\n",
              "      <td>-0.510044</td>\n",
              "      <td>-0.556238</td>\n",
              "    </tr>\n",
              "  </tbody>\n",
              "</table>\n",
              "<p>426 rows × 21 columns</p>\n",
              "</div>"
            ],
            "text/plain": [
              "            LB        AC        FM        UC        DL   DS        DP  \\\n",
              "282  -0.106532 -0.286784  0.052463 -0.402003  0.013881  0.0 -0.274094   \n",
              "1999 -0.952824 -0.812247 -0.176369  1.636726  1.984984  0.0 -0.274094   \n",
              "1709 -0.318105  0.238678 -0.125518 -0.062215  0.999432  0.0  1.640073   \n",
              "988  -0.318105  2.077798 -0.201795  0.277573 -0.643153  0.0 -0.274094   \n",
              "2018 -0.952824 -0.812247 -0.201795  1.296938  1.656467  0.0  1.640073   \n",
              "...        ...       ...       ...       ...       ...  ...       ...   \n",
              "305   1.162907 -0.812247  0.332147 -1.421367 -0.643153  0.0 -0.274094   \n",
              "973  -0.318105 -0.812247 -0.201795  0.277573  1.984984  0.0 -0.274094   \n",
              "611   1.057121  0.764141 -0.074666 -0.741791 -0.643153  0.0 -0.274094   \n",
              "2108  0.210828 -0.812247 -0.125518  1.296938 -0.314636  0.0 -0.274094   \n",
              "192   1.057121 -0.286784 -0.201795 -0.402003 -0.643153  0.0 -0.274094   \n",
              "\n",
              "          ASTV      MSTV      ALTV  ...     Width       Min       Max  \\\n",
              "282  -0.094906 -0.267724 -0.547087  ... -0.028291  0.013632 -0.037672   \n",
              "1999  0.852212  0.395360 -0.547087  ...  0.049464 -0.919662 -1.334519   \n",
              "1709  0.733823  0.837415 -0.547087  ...  0.516000 -0.573997  0.178469   \n",
              "988  -1.101220 -0.046696 -0.547087  ...  0.490082 -0.435732  0.340574   \n",
              "2018  0.970602 -0.046696 -0.547087  ...  0.179058 -0.573997 -0.523990   \n",
              "...        ...       ...       ...  ...       ...       ...       ...   \n",
              "305   1.562552 -1.151835  0.996010  ... -0.417071  1.258023  1.097068   \n",
              "973  -0.923635  0.505873 -0.238468  ...  0.697431 -1.230760 -0.469955   \n",
              "611  -0.864441  0.395360 -0.547087  ...  0.852943 -0.815962  0.502680   \n",
              "2108  1.148187  0.947929 -0.547087  ... -0.650339  0.186464 -1.064342   \n",
              "192   0.082678 -0.709779 -0.392778  ... -0.676258  1.569121  1.043033   \n",
              "\n",
              "          Nmax    Nzeros      Mode      Mean    Median  Variance  Tendency  \n",
              "282   0.278678 -0.509868  0.062982 -0.007181 -0.068261 -0.338092 -0.556238  \n",
              "1999  0.278678 -0.509868 -0.523120 -1.270786 -1.018080  0.349717  1.089298  \n",
              "1709  1.284754 -0.509868 -0.327752 -0.539226 -0.506639  0.074593 -0.556238  \n",
              "988   1.284754 -0.509868  0.323472  0.657874  0.443180 -0.338092  1.089298  \n",
              "2018 -0.056680 -0.509868 -1.565079 -1.603314 -1.821773 -0.406873 -0.556238  \n",
              "...        ...       ...       ...       ...       ...       ...       ...  \n",
              "305  -0.727398 -0.509868  0.453717  0.591368  0.516243 -0.613216 -2.201774  \n",
              "973  -0.392039  0.814545 -0.197508 -1.004764 -0.433576  1.759725  1.089298  \n",
              "611   0.278678  0.814545  0.779329  0.923896  0.881558 -0.303702  1.089298  \n",
              "2108 -0.392039 -0.509868 -0.327752 -0.273203 -0.214387 -0.578825  1.089298  \n",
              "192  -0.392039 -0.509868  1.560799  1.522446  1.685251 -0.510044 -0.556238  \n",
              "\n",
              "[426 rows x 21 columns]"
            ]
          },
          "execution_count": 11,
          "metadata": {},
          "output_type": "execute_result"
        }
      ],
      "source": [
        "X_test_num_scaled_df"
      ]
    },
    {
      "attachments": {},
      "cell_type": "markdown",
      "metadata": {
        "id": "mc2mlDo8XYnr"
      },
      "source": [
        "Creëer een model gebruik maken van een Random Forest Classifier.  \n",
        "Bepaal  de optimale waarden voor de parameters gebruik makend van GridSearchCV.  \n",
        "Gebruik volgende parametercombinaties: \n",
        "- bootstrap = True, n_estimators = 3,10,30  max_features = 4,6,8\n",
        "- bootstrap = False, n_estimators = 3,10  max_features = 2,3,4\n",
        "Geef de gevonden optimale waarden voor de classifier.  \n",
        "Geef de accuracy."
      ]
    },
    {
      "cell_type": "markdown",
      "metadata": {
        "id": "4Aok88xHmujr"
      },
      "source": [
        "### RandomForestClassifier\n"
      ]
    },
    {
      "cell_type": "code",
      "execution_count": 12,
      "metadata": {
        "colab": {
          "base_uri": "https://localhost:8080/"
        },
        "id": "ISmO8mtUmujy",
        "outputId": "c7ef4e75-4c19-4a8d-b7b8-8ff5135e958b"
      },
      "outputs": [
        {
          "name": "stdout",
          "output_type": "stream",
          "text": [
            "best estimator = RandomForestClassifier(max_features=8, n_estimators=30, random_state=42)\n",
            "best score = 0.9364705882352942\n"
          ]
        }
      ],
      "source": [
        "\n",
        "from sklearn.model_selection import GridSearchCV\n",
        "from sklearn.ensemble import RandomForestClassifier\n",
        "\n",
        "param_grid = [\n",
        "    # try 12 (3×3) combinations of hyperparameters with bootstrap set as True (default)\n",
        "    { 'bootstrap':[True],'n_estimators': [3, 10, 30], 'max_features': [4, 6, 8]},\n",
        "    # then try 6 (2×3) combinations with bootstrap set as False\n",
        "    {'bootstrap':[False], 'n_estimators': [3, 10], 'max_features': [2, 3, 4]},\n",
        "]\n",
        "\n",
        "# Use GridSearchCV to find the best parameters.\n",
        "grid_rdf = GridSearchCV(RandomForestClassifier(random_state = 42), param_grid, scoring='accuracy', cv=5)\n",
        "\n",
        "grid_rdf.fit(X_train_num_scaled_df,y_train)\n",
        "\n",
        "# best estimator\n",
        "print(f\"best estimator = {grid_rdf.best_estimator_}\")\n",
        "# best score\n",
        "print(f\"best score = {grid_rdf.best_score_}\")\n"
      ]
    },
    {
      "attachments": {},
      "cell_type": "markdown",
      "metadata": {},
      "source": [
        "Stel de confusion matrix (zowel als numeriek cijferdiagramma en als genormaliseerd kleurdiagramma) op m.b.v. de TEST set en interpreteer. "
      ]
    },
    {
      "cell_type": "code",
      "execution_count": 13,
      "metadata": {},
      "outputs": [
        {
          "data": {
            "text/plain": [
              "array([1., 1., 1., 1., 1., 3., 1., 3., 2., 2.])"
            ]
          },
          "execution_count": 13,
          "metadata": {},
          "output_type": "execute_result"
        }
      ],
      "source": [
        "y_test_pred = grid_rdf.predict(X_test_num_scaled_df)\n",
        "y_test_pred[:10]"
      ]
    },
    {
      "cell_type": "code",
      "execution_count": 14,
      "metadata": {},
      "outputs": [
        {
          "data": {
            "text/plain": [
              "array([[327,   4,   2],\n",
              "       [ 12,  51,   1],\n",
              "       [  1,   4,  24]], dtype=int64)"
            ]
          },
          "execution_count": 14,
          "metadata": {},
          "output_type": "execute_result"
        }
      ],
      "source": [
        "from sklearn.metrics import confusion_matrix\n",
        "\n",
        "conf_mx = confusion_matrix(y_test, y_test_pred)\n",
        "conf_mx"
      ]
    },
    {
      "cell_type": "code",
      "execution_count": 15,
      "metadata": {
        "colab": {
          "base_uri": "https://localhost:8080/",
          "height": 297
        },
        "id": "BUv191fPSmCF",
        "outputId": "46652ae4-61b5-4b20-abe2-b0cc2c7948d5"
      },
      "outputs": [
        {
          "data": {
            "image/png": "[encoded data removed]",
            "text/plain": [
              "<Figure size 640x480 with 2 Axes>"
            ]
          },
          "metadata": {},
          "output_type": "display_data"
        }
      ],
      "source": [
        "from sklearn.metrics import ConfusionMatrixDisplay\n",
        "\n",
        "plt.rc('font', size=10)  # extra code\n",
        "ConfusionMatrixDisplay.from_predictions(y_test, y_test_pred,\n",
        "                                        normalize=\"true\", values_format=\".0%\")\n",
        "plt.show()"
      ]
    },
    {
      "cell_type": "markdown",
      "metadata": {
        "id": "pK8zyrOlJ-vq"
      },
      "source": [
        "Bekijk de confusion matrix goed. Hoewel de accuracy best ok lijkt, zijn de feitelijke resultaten niet goed."
      ]
    },
    {
      "attachments": {},
      "cell_type": "markdown",
      "metadata": {
        "id": "-D_xpDOqKOzS"
      },
      "source": [
        "Stel dat we NSP = 2 (Suspect) en 3 (Pathologisch) zonder onderscheid volledig samennemen als zijnde Positief (~ er is iets aan de hand) en NSP = 1 (Normaal) beschouwen als zijnde Negatief (~ er is niets aan de hand).  \n",
        "Bereken en geef dan de precision op basis van de voorgaande numerieke confusion matrix."
      ]
    },
    {
      "cell_type": "code",
      "execution_count": 16,
      "metadata": {
        "colab": {
          "base_uri": "https://localhost:8080/"
        },
        "id": "qRCkN2DdKNyg",
        "outputId": "7401994b-ba19-4897-b6ea-aba919090c9b"
      },
      "outputs": [
        {
          "name": "stdout",
          "output_type": "stream",
          "text": [
            "0.9302325581395349\n"
          ]
        }
      ],
      "source": [
        "precision = (conf_mx[1][1] + conf_mx[2][2] + conf_mx[1][2] + conf_mx[2][1]) / (conf_mx[1][1] + conf_mx[2][2] + conf_mx[1][2] + conf_mx[2][1] + conf_mx[0][1] + conf_mx[0][2])\n",
        "print(precision)"
      ]
    },
    {
      "cell_type": "markdown",
      "metadata": {
        "id": "eM0Z7eetKYW0"
      },
      "source": [
        "Bereken en geef dan de recall op basis van de voorgaande confusion matrix."
      ]
    },
    {
      "cell_type": "code",
      "execution_count": 17,
      "metadata": {
        "colab": {
          "base_uri": "https://localhost:8080/"
        },
        "id": "c5ts1AsKKXTH",
        "outputId": "0d187ce0-39b8-401b-b66d-f47b4e4998b8"
      },
      "outputs": [
        {
          "name": "stdout",
          "output_type": "stream",
          "text": [
            "0.8602150537634409\n"
          ]
        }
      ],
      "source": [
        "# = het aantal voorspelde Class = 2.0 gedeeld door het totaal aantal Class = 2.0\n",
        "recall = (conf_mx[1][1] + conf_mx[2][2] + conf_mx[1][2] + conf_mx[2][1]) / (conf_mx[1][1] + conf_mx[2][2] + conf_mx[1][2] + conf_mx[2][1] + conf_mx[1][0] + conf_mx[2][0] )\n",
        "print(recall)"
      ]
    },
    {
      "cell_type": "markdown",
      "metadata": {
        "id": "DsaunsJSK0ry"
      },
      "source": [
        "Wat is belangrijker in dit geval: precision of recall? Leg kort uit."
      ]
    },
    {
      "cell_type": "code",
      "execution_count": 18,
      "metadata": {
        "id": "d-kcCebcKMtK"
      },
      "outputs": [],
      "source": [
        "# Recall \n",
        "# Vooral het aantal FN's is zeer zorgwekkend."
      ]
    },
    {
      "cell_type": "markdown",
      "metadata": {
        "id": "vRkT4zjkf02d"
      },
      "source": [
        "Wat is een mogelijke verklaring voor de slechte resultaten?"
      ]
    },
    {
      "cell_type": "code",
      "execution_count": 19,
      "metadata": {
        "id": "ztMRhPMrf3ic"
      },
      "outputs": [],
      "source": [
        "# Te weinig trainingsdata"
      ]
    },
    {
      "attachments": {},
      "cell_type": "markdown",
      "metadata": {},
      "source": [
        "Teken de ROC curve voor de testset en bereken de AUC voor de binaire classifier waarbij negatief beschouwd wordt als NSP = 1 en positief als NSP = 2 of 3. Herwerk hiervoor de dataset. \n",
        "Aangezien Random Forest geen decision function heeft, moeten we gebruik maken van de functie `predict_proba()` op de classifier. "
      ]
    },
    {
      "cell_type": "code",
      "execution_count": 20,
      "metadata": {},
      "outputs": [
        {
          "data": {
            "text/plain": [
              "1    1322\n",
              "2     378\n",
              "dtype: int64"
            ]
          },
          "execution_count": 20,
          "metadata": {},
          "output_type": "execute_result"
        }
      ],
      "source": [
        "y_train\n",
        "y_train_23 = [1 if val==1 else 2 for val in y_train.values]\n",
        "y_train_23_series = pd.Series(y_train_23)\n",
        "y_train_23_series.value_counts()"
      ]
    },
    {
      "cell_type": "code",
      "execution_count": 21,
      "metadata": {},
      "outputs": [
        {
          "data": {
            "text/plain": [
              "1    333\n",
              "2     93\n",
              "dtype: int64"
            ]
          },
          "execution_count": 21,
          "metadata": {},
          "output_type": "execute_result"
        }
      ],
      "source": [
        "y_test\n",
        "y_test_23 = [1 if val==1 else 2 for val in y_test.values]\n",
        "y_test_23_series = pd.Series(y_test_23)\n",
        "y_test_23_series.value_counts()"
      ]
    },
    {
      "cell_type": "code",
      "execution_count": 22,
      "metadata": {},
      "outputs": [
        {
          "name": "stdout",
          "output_type": "stream",
          "text": [
            "best estimator = RandomForestClassifier(max_features=6, n_estimators=30, random_state=42)\n",
            "best score = 0.9452941176470588\n"
          ]
        }
      ],
      "source": [
        "\n",
        "param_grid = [\n",
        "    # try 12 (3×4) combinations of hyperparameters with bootstrap set as True (default)\n",
        "    { 'bootstrap':[True],'n_estimators': [3, 10, 30], 'max_features': [4, 6, 8]},\n",
        "    # then try 6 (2×3) combinations with bootstrap set as False\n",
        "    {'bootstrap':[False], 'n_estimators': [3, 10], 'max_features': [2, 3, 4]},\n",
        "]\n",
        "\n",
        "# Use GridSearchCV to find the best parameters.\n",
        "grid_rdf = GridSearchCV(RandomForestClassifier(random_state = 42), param_grid, scoring='accuracy', cv=5)\n",
        "\n",
        "grid_rdf.fit(X_train_num_scaled_df,y_train_23_series)\n",
        "\n",
        "# best estimator\n",
        "print(f\"best estimator = {grid_rdf.best_estimator_}\")\n",
        "# best score\n",
        "print(f\"best score = {grid_rdf.best_score_}\")"
      ]
    },
    {
      "cell_type": "code",
      "execution_count": 23,
      "metadata": {},
      "outputs": [
        {
          "data": {
            "text/plain": [
              "array([[1.        , 0.        ],\n",
              "       [1.        , 0.        ],\n",
              "       [0.93333333, 0.06666667],\n",
              "       [1.        , 0.        ],\n",
              "       [0.93333333, 0.06666667],\n",
              "       [0.        , 1.        ],\n",
              "       [1.        , 0.        ],\n",
              "       [0.06666667, 0.93333333],\n",
              "       [0.2       , 0.8       ],\n",
              "       [0.        , 1.        ]])"
            ]
          },
          "execution_count": 23,
          "metadata": {},
          "output_type": "execute_result"
        }
      ],
      "source": [
        "from sklearn.model_selection import cross_val_predict\n",
        "y_scores = grid_rdf.predict_proba(X_test_num_scaled_df)\n",
        "y_scores[:10]\n"
      ]
    },
    {
      "cell_type": "code",
      "execution_count": 24,
      "metadata": {},
      "outputs": [],
      "source": [
        "y_scores = y_scores[:,1]"
      ]
    },
    {
      "cell_type": "code",
      "execution_count": 25,
      "metadata": {},
      "outputs": [],
      "source": [
        "from sklearn.metrics import roc_curve\n",
        "fpr, tpr, thresholds = roc_curve(y_test_23_series, y_scores,pos_label=2)"
      ]
    },
    {
      "cell_type": "code",
      "execution_count": 26,
      "metadata": {},
      "outputs": [
        {
          "data": {
            "image/png": "[encoded data removed]",
            "text/plain": [
              "<Figure size 600x500 with 1 Axes>"
            ]
          },
          "metadata": {},
          "output_type": "display_data"
        }
      ],
      "source": [
        "import matplotlib.patches as patches  # extra code – for the curved arrow\n",
        "\n",
        "plt.figure(figsize=(6, 5))  # extra code – not needed, just formatting\n",
        "plt.plot(fpr, tpr, linewidth=2, label=\"ROC curve\")\n",
        "plt.plot([0, 1], [0, 1], 'k:', label=\"Random classifier's ROC curve\")\n",
        "\n",
        "# extra code – just beautifies the figure with the curved arrow\n",
        "plt.gca().add_patch(patches.FancyArrowPatch(\n",
        "     (0.20, 0.89), (0.07, 0.70),\n",
        "     connectionstyle=\"arc3,rad=.4\",\n",
        "     arrowstyle=\"Simple, tail_width=1.5, head_width=8, head_length=10\",\n",
        "     color=\"#444444\"))\n",
        "plt.text(0.12, 0.71, \"Higher\\nthreshold\", color=\"#333333\")\n",
        "plt.xlabel('False Positive Rate (Fall-Out)')\n",
        "plt.ylabel('True Positive Rate (Recall)')\n",
        "plt.grid()\n",
        "plt.axis([0, 1, 0, 1])\n",
        "plt.legend(loc=\"lower right\", fontsize=13)\n",
        "\n",
        "plt.show()"
      ]
    },
    {
      "cell_type": "code",
      "execution_count": 27,
      "metadata": {},
      "outputs": [
        {
          "data": {
            "text/plain": [
              "0.9859052600988084"
            ]
          },
          "execution_count": 27,
          "metadata": {},
          "output_type": "execute_result"
        }
      ],
      "source": [
        "from sklearn.metrics import roc_auc_score\n",
        "\n",
        "roc_auc_score(y_test_23_series, y_scores)"
      ]
    }
  ],
  "metadata": {
    "colab": {
      "collapsed_sections": [],
      "name": "Examen Machine Learning Juni 2022.ipynb",
      "provenance": []
    },
    "kernelspec": {
      "display_name": "Python 3",
      "language": "python",
      "name": "python3"
    },
    "language_info": {
      "codemirror_mode": {
        "name": "ipython",
        "version": 3
      },
      "file_extension": ".py",
      "mimetype": "text/x-python",
      "name": "python",
      "nbconvert_exporter": "python",
      "pygments_lexer": "ipython3",
      "version": "3.11.8"
    },
    "vscode": {
      "interpreter": {
        "hash": "6e919314690ba078a9c4cab482e45708028526432cf77d9e4e02ebe923b94e34"
      }
    }
  },
  "nbformat": 4,
  "nbformat_minor": 0
}
